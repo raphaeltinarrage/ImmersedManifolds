{
 "cells": [
  {
   "cell_type": "markdown",
   "metadata": {},
   "source": [
    "# Recovering the homology of immersed manifolds: demo\n",
    "\n",
    "Raphaël Tinarrage\n",
    "<br/>\n",
    "http://pages.saclay.inria.fr/raphael.tinarrage/"
   ]
  },
  {
   "cell_type": "markdown",
   "metadata": {},
   "source": [
    "This page describes the implementation and use of the method described in our paper https://arxiv.org/abs/1912.03033"
   ]
  },
  {
   "cell_type": "markdown",
   "metadata": {},
   "source": [
    "## Background\n",
    "\n",
    "Let $\\mathbb{R}^n$ be the Euclidean space, and $M(\\mathbb{R}^n)$ the space of $n \\times n$ matrices.\n",
    "Consider a finite subset $X$ of $\\mathbb{R}^n$. The method consists in computing $\\check X$, which is a finite subspace of $\\mathbb{R}^n \\times M(\\mathbb{R}^n)$, and in applying DTM-based filtrations in the ambient space $\\mathbb{R}^n \\times M(\\mathbb{R}^n)$. The DTM-filtrations are defined in https://arxiv.org/abs/1811.04757.\n",
    "\n",
    "This method depends on three parameters: $r \\in (0, +\\infty)$, $\\gamma \\in [0, +\\infty)$ and $m \\in [0,1]$.\n",
    "The set $\\check X$ is defined as\n",
    "$$\\check X = \\{ (x, \\gamma \\overline \\Sigma(x)), x \\in X  \\},$$\n",
    "where $\\overline \\Sigma(x)$, the normalized covariance matrix at $x$, is computed with respect to a radius $r$.\n",
    "We then compute the DTM-filtration over the empirical measure on $\\check X$ with parameter $m$."
   ]
  },
  {
   "cell_type": "markdown",
   "metadata": {},
   "source": [
    "## Datasets\n",
    "\n",
    "We consider here two datasets:\n",
    "-  Bernouilli's lemniscate\n",
    "-  the Olympic rings"
   ]
  },
  {
   "cell_type": "markdown",
   "metadata": {},
   "source": [
    "## Functions\n",
    "\n",
    "<font color='red'>In order to compile this notebook, please compile first the last box of this notebook, which contains the definition of the functions</font>\n",
    "\n",
    "We need the following functions:\n",
    "- **NormalizedLocalCovarianceMatrices**:  compute the normalized covariance matrices of a point cloud\n",
    "- **Augmentation**:                       compute the set $\\check X$ associated to $X$\n",
    "\n",
    "In order to compute DTM-filtrations, we use:\n",
    "- **DTM**:                    compute the DTM on a point cloud\n",
    "- **Filtration_value**:       compute the filtration value of an edge in the DTM-filtration\n",
    "- **WeightedRipsFiltration**: compute the weighted Rips filtration\n",
    "- **DTMFiltration**:          compute the Rips-DTM-filtration\n",
    "\n",
    "The two following functions will serve to generate and plot datasets:\n",
    "- **SampleOnLemniscate**: Sample random points on the lemniscate, with potentially outliers    \n",
    "- **SampleOnOlympics**: Sample random points on five circles, with potentially outliers  \n",
    "- **PlotPersistenceBarcodes**: Displays the persistence barcodes of a gd.SimplexTree\n",
    "\n",
    "We work with the Gudhi library."
   ]
  },
  {
   "cell_type": "markdown",
   "metadata": {},
   "source": [
    "## First dataset\n",
    "\n",
    "We start with a sample $X$ of the lemniscate $\\mathcal{M} \\subset \\mathbb{R}^2$. \n",
    "It is to be seen as an immersion of the circle $\\mathbb{S}_1 \\rightarrow \\mathbb{R}^2$."
   ]
  },
  {
   "cell_type": "code",
   "execution_count": 2,
   "metadata": {
    "scrolled": true
   },
   "outputs": [
    {
     "data": {
      "image/png": "[encoded data removed]",
      "text/plain": [
       "<Figure size 432x288 with 1 Axes>"
      ]
     },
     "metadata": {
      "needs_background": "light"
     },
     "output_type": "display_data"
    }
   ],
   "source": [
    "' Sampling on the lemniscate '\n",
    "N_obs = 200                                         # number of points sampled on the lemniscate\n",
    "N_out = 0                                           # number of outliers \n",
    "X = SampleOnLemniscate(N_obs, N_out, is_plot=True)  # sample points "
   ]
  },
  {
   "cell_type": "code",
   "execution_count": 3,
   "metadata": {},
   "outputs": [
    {
     "data": {
      "image/png": "[encoded data removed]",
      "text/plain": [
       "<Figure size 720x144 with 1 Axes>"
      ]
     },
     "metadata": {
      "needs_background": "light"
     },
     "output_type": "display_data"
    },
    {
     "data": {
      "image/png": "[encoded data removed]",
      "text/plain": [
       "<Figure size 720x144 with 1 Axes>"
      ]
     },
     "metadata": {
      "needs_background": "light"
     },
     "output_type": "display_data"
    }
   ],
   "source": [
    "' Usual Rips complex on X '\n",
    "st_rips = gudhi.RipsComplex(points = X, max_edge_length = 1).create_simplex_tree(max_dimension=2) \n",
    "                                                   # create a Rips complex     \n",
    "\n",
    "PlotPersistenceBarcodes(st_rips, tmax=1, d=3)      # compute the persistence"
   ]
  },
  {
   "cell_type": "markdown",
   "metadata": {},
   "source": [
    "On these diagrams, one can read the homology of the lemniscate. Its Betti numbers are $(\\beta_0, \\beta_1) = (1,2)$.\n",
    "\n",
    "We now illustrate our method. We aim to recover the homology of the original circle $\\mathbb{S}_1$.\n",
    "First, we compute the set $\\check X$, with given parameters $r$ and $\\gamma$. "
   ]
  },
  {
   "cell_type": "code",
   "execution_count": 4,
   "metadata": {},
   "outputs": [],
   "source": [
    "' Computing X_check '\n",
    "r = 0.05\n",
    "gamma = 3\n",
    "X_check = Augmentation(X, r, gamma)"
   ]
  },
  {
   "cell_type": "markdown",
   "metadata": {},
   "source": [
    "We then compute the persistence diagram of the DTM-filtration on $\\check X$ with parameter $m = 0.03$."
   ]
  },
  {
   "cell_type": "code",
   "execution_count": 5,
   "metadata": {
    "scrolled": false
   },
   "outputs": [
    {
     "name": "stdout",
     "output_type": "stream",
     "text": [
      "Weighted Rips Complex is of dimension 2 - 1333500 simplices - 200 vertices. Filtration maximal value is inf.\n"
     ]
    },
    {
     "data": {
      "image/png": "[encoded data removed]",
      "text/plain": [
       "<Figure size 720x144 with 1 Axes>"
      ]
     },
     "metadata": {
      "needs_background": "light"
     },
     "output_type": "display_data"
    },
    {
     "data": {
      "image/png": "[encoded data removed]",
      "text/plain": [
       "<Figure size 720x144 with 1 Axes>"
      ]
     },
     "metadata": {
      "needs_background": "light"
     },
     "output_type": "display_data"
    }
   ],
   "source": [
    "' DTM-filtration on X_check '\n",
    "m = 0.01\n",
    "p = 1                                            \n",
    "dimension_max = 2\n",
    "\n",
    "st = DTMFiltration(X_check, m, p, dimension_max)         # create a DTM-filtration\n",
    "PlotPersistenceBarcodes(st, tmax=1, d=3)                 # compute the persistence"
   ]
  },
  {
   "cell_type": "markdown",
   "metadata": {},
   "source": [
    "On these diagrams, there is an interval where one reads the homology of the original manifold $\\mathbb{S}_1$: $(\\beta_0, \\beta_1) = (1,1)$.\n",
    "We successfully recovered the homology of the original manifold."
   ]
  },
  {
   "cell_type": "markdown",
   "metadata": {},
   "source": [
    "As illustrated by the following example, this construction is stable in Wasserstein distance: adding a few outliers in the dataset results in a small change (in bottleneck distance) in the persistence barcodes."
   ]
  },
  {
   "cell_type": "code",
   "execution_count": 6,
   "metadata": {},
   "outputs": [
    {
     "name": "stdout",
     "output_type": "stream",
     "text": [
      "Weighted Rips Complex is of dimension 2 - 2604375 simplices - 250 vertices. Filtration maximal value is inf.\n"
     ]
    },
    {
     "data": {
      "image/png": "[encoded data removed]",
      "text/plain": [
       "<Figure size 432x288 with 1 Axes>"
      ]
     },
     "metadata": {
      "needs_background": "light"
     },
     "output_type": "display_data"
    },
    {
     "data": {
      "image/png": "[encoded data removed]",
      "text/plain": [
       "<Figure size 720x144 with 1 Axes>"
      ]
     },
     "metadata": {
      "needs_background": "light"
     },
     "output_type": "display_data"
    },
    {
     "data": {
      "image/png": "[encoded data removed]",
      "text/plain": [
       "<Figure size 720x144 with 1 Axes>"
      ]
     },
     "metadata": {
      "needs_background": "light"
     },
     "output_type": "display_data"
    }
   ],
   "source": [
    "' Sampling on the lemniscate with outliers '\n",
    "N_obs = 200                                            # number of points sampled on the lemniscate\n",
    "N_out = 50                                             # number of outliers \n",
    "X = SampleOnLemniscate(N_obs, N_out, is_plot=True)     # sample points \n",
    "\n",
    "' Computing X_check '\n",
    "r=0.05\n",
    "gamma = 3\n",
    "X_check = Augmentation(X, r, gamma)\n",
    "\n",
    "' DTM-filtration on X_check '\n",
    "m = 0.01\n",
    "p = 1                                            \n",
    "dimension_max = 2\n",
    "\n",
    "st = DTMFiltration(X_check, m, p, dimension_max)      # create a DTM-filtration\n",
    "PlotPersistenceBarcodes(st, tmax=1, d=3)              # compute the persistence"
   ]
  },
  {
   "cell_type": "markdown",
   "metadata": {},
   "source": [
    "## Second dataset\n",
    "\n",
    "We consider a sample $X$ of the Olympic rings $\\mathcal{M} \\subset \\mathbb{R}^2$. \n",
    "It is to be seen as an immersion of the disjoint union of five circles $\\cup_{i=1}^5 \\mathbb{S}_1 \\rightarrow \\mathbb{R}^2$."
   ]
  },
  {
   "cell_type": "code",
   "execution_count": 7,
   "metadata": {
    "scrolled": true
   },
   "outputs": [
    {
     "data": {
      "image/png": "[encoded data removed]",
      "text/plain": [
       "<Figure size 432x288 with 1 Axes>"
      ]
     },
     "metadata": {
      "needs_background": "light"
     },
     "output_type": "display_data"
    }
   ],
   "source": [
    "' Sampling on the Olympic rings '\n",
    "N_obs = 300                                 # number of points sampled on each Olympic rings\n",
    "X = SampleOnOlympics(N_obs, is_plot=True)   # sample points "
   ]
  },
  {
   "cell_type": "code",
   "execution_count": 8,
   "metadata": {
    "scrolled": false
   },
   "outputs": [
    {
     "data": {
      "image/png": "[encoded data removed]",
      "text/plain": [
       "<Figure size 720x144 with 1 Axes>"
      ]
     },
     "metadata": {
      "needs_background": "light"
     },
     "output_type": "display_data"
    },
    {
     "data": {
      "image/png": "[encoded data removed]",
      "text/plain": [
       "<Figure size 720x144 with 1 Axes>"
      ]
     },
     "metadata": {
      "needs_background": "light"
     },
     "output_type": "display_data"
    }
   ],
   "source": [
    "' Usual Rips complex on X '\n",
    "max_edge_length = 1                               # maximal edge length in the Rips complex\n",
    "\n",
    "st_rips = gudhi.RipsComplex(points = X, max_edge_length = max_edge_length).create_simplex_tree(max_dimension=2) \n",
    "                                                  # create a Rips complex     \n",
    "PlotPersistenceBarcodes(st_rips, tmax=1, d=3)     # compute the persistence"
   ]
  },
  {
   "cell_type": "markdown",
   "metadata": {},
   "source": [
    "On these diagrams, one can read the following Betti numers: $(\\beta_0, \\beta_1) = (1,9)$.\n",
    "\n",
    "We now illustrate our method. Our goal is to recover the homology of five (disconnected) circles.\n",
    "First, we compute the set $\\check X$, with given parameters $r$ and $\\gamma$. "
   ]
  },
  {
   "cell_type": "code",
   "execution_count": 9,
   "metadata": {},
   "outputs": [],
   "source": [
    "' Computing X_check '\n",
    "r = 0.03\n",
    "gamma = 1\n",
    "X_check = Augmentation(X, r, gamma)"
   ]
  },
  {
   "cell_type": "markdown",
   "metadata": {},
   "source": [
    "We then compute the persistence diagram of the DTM-filtration on $\\check X$ with parameter $m = 0.01$.\n",
    "Only bars of length larger than $0.1$ are displayed."
   ]
  },
  {
   "cell_type": "code",
   "execution_count": 11,
   "metadata": {
    "scrolled": false
   },
   "outputs": [
    {
     "name": "stdout",
     "output_type": "stream",
     "text": [
      "Weighted Rips Complex is of dimension 2 - 42198147 simplices - 1500 vertices. Filtration maximal value is 1.\n"
     ]
    },
    {
     "data": {
      "image/png": "[encoded data removed]",
      "text/plain": [
       "<Figure size 720x144 with 1 Axes>"
      ]
     },
     "metadata": {
      "needs_background": "light"
     },
     "output_type": "display_data"
    },
    {
     "data": {
      "image/png": "[encoded data removed]",
      "text/plain": [
       "<Figure size 720x144 with 1 Axes>"
      ]
     },
     "metadata": {
      "needs_background": "light"
     },
     "output_type": "display_data"
    }
   ],
   "source": [
    "' DTM-filtration on X_check '\n",
    "m = 0.01\n",
    "p = 1                                            \n",
    "dimension_max = 2\n",
    "filtration_max = 1                                       # maximal filtration value\n",
    "\n",
    "st = DTMFiltration(X_check, m, p, dimension_max, filtration_max)         \n",
    "                                                         # create a DTM-filtration\n",
    "PlotPersistenceBarcodes(st, tmax=1, d=3, eps = 0.1)      # compute the persistence"
   ]
  },
  {
   "cell_type": "markdown",
   "metadata": {},
   "source": [
    "On these diagrams, there is an interval where one reads the Betti numbers of the original manifold $\\cup_{i=1}^5 \\mathbb{S}_1$, that is, $(\\beta_0, \\beta_1) = (5,5)$."
   ]
  },
  {
   "cell_type": "markdown",
   "metadata": {},
   "source": [
    "# Take-home message\n",
    "\n",
    "This implementation depends on 3 parameters:\n",
    "- $r$: scale to compute covariance matrices \n",
    "- $\\gamma$: dilatation of the space $M(\\mathbb{R}^n) \\subset \\mathbb{R}^n \\times M(\\mathbb{R}^n)$\n",
    "- $m$: parameter of the DTM\n",
    "\n",
    "It can be used as follows:\n",
    "``` \n",
    "# X is a Nxn array, N = number of points, n = dimension of the ambient space\n",
    "r = 0.05\n",
    "gamma = 1\n",
    "m = 0.01\n",
    "\n",
    "p = 1                                            \n",
    "dimension_max = 2     \n",
    "filtration_max = 1\n",
    "\n",
    "X_check = Augmentation(X, r, gamma)\n",
    "st = DTMFiltration(X_check, m, p, dimension_max, filtration_max) \n",
    "PlotPersistenceBarcodes(st, tmax=1, d=dimension_max+1) \n",
    "```"
   ]
  },
  {
   "cell_type": "markdown",
   "metadata": {},
   "source": [
    "## Functions"
   ]
  },
  {
   "cell_type": "code",
   "execution_count": 1,
   "metadata": {
    "scrolled": false
   },
   "outputs": [],
   "source": [
    "import gudhi\n",
    "import math \n",
    "import numpy as np\n",
    "import matplotlib.pyplot as plt\n",
    "from sklearn.metrics.pairwise import euclidean_distances\n",
    "from sklearn.neighbors import KDTree\n",
    "from scipy import spatial\n",
    "\n",
    "COLORS = ['red', 'green', 'blue', 'orange'] # Colors of the persistence barcodes\n",
    "\n",
    "def NormalizedLocalCovarianceMatrices(X, r):\n",
    "    '''\n",
    "    Compute the normalized covariance matrices at scale r of the measure \\mu, where \\mu is the empirical measure\n",
    "    on the set X. \n",
    "    \n",
    "    Input:\n",
    "    X: a Nxn numpy array representing N points in R^n\n",
    "    r: a positive parameter\n",
    "    \n",
    "    Output: \n",
    "    NormLocCovMat: a Nx(n^2) numpy array contaning the normalized covariance matrices \n",
    "    on the points X\n",
    "    '''\n",
    "    N = np.shape(X)[0]\n",
    "    n = np.shape(X)[1]\n",
    "    tree = spatial.KDTree(X)\n",
    "    LocCovMat = np.zeros((n,n,N))\n",
    "    NormLocCovMat = np.zeros((n,n,N))\n",
    "\n",
    "    for i in range(N):\n",
    "        x = X[i, :]\n",
    "        ind = tree.query_ball_point(x, r)\n",
    "        k = len(ind)    \n",
    "        M = 0\n",
    "        for j in range(k):\n",
    "            z = X[i, :] - X[ind[j], :]\n",
    "            M = M + np.outer(z,z)\n",
    "        M = M/k\n",
    "        LocCovMat[:,:,i] = M\n",
    "\n",
    "    NormLocCovMat = LocCovMat/r**2\n",
    "    return NormLocCovMat\n",
    "\n",
    "def Augmentation(X, r, gamma):\n",
    "    '''\n",
    "    Compute the set \\check X associated to X. \n",
    "    \n",
    "    Input:\n",
    "    X: a Nxn numpy array representing N points in R^n\n",
    "    r: a positive parameter\n",
    "    gamma: a non-negative parameter\n",
    "    \n",
    "    Output: \n",
    "    X_check: a Nx(n+n^2) numpy array representing N points in R^(n+n^2)\n",
    "    '''\n",
    "    N = np.shape(X)[0]\n",
    "    n = np.shape(X)[1]\n",
    "    \n",
    "    NormLocCovMat = NormalizedLocalCovarianceMatrices(X,r)\n",
    "    X_check = np.zeros((N, n+n**2))\n",
    "\n",
    "    for i in range(N):\n",
    "        X_check[i, 0:n] = X[i,:]\n",
    "        X_check[i, n:(n+n**2)] = gamma*np.matrix.flatten(NormLocCovMat[:,:,i])\n",
    "    return X_check\n",
    "\n",
    "def DTM(X,query_pts,m):\n",
    "    '''\n",
    "    Compute the values of the DTM (with exponent p=2) of the empirical measure of a point cloud X\n",
    "    Require sklearn.neighbors.KDTree to search nearest neighbors\n",
    "    \n",
    "    Input:\n",
    "    X: a nxd numpy array representing n points in R^d\n",
    "    query_pts:  a kxd numpy array of query points\n",
    "    m: parameter of the DTM in [0,1)\n",
    "    \n",
    "    Output: \n",
    "    DTM_result: a kx1 numpy array contaning the DTM of the \n",
    "    query points\n",
    "    \n",
    "    Example:\n",
    "    X = np.array([[-1, -1], [-2, -1], [-3, -2], [1, 1], [2, 1], [3, 2]])\n",
    "    Q = np.array([[0,0],[5,5]])\n",
    "    DTM_values = DTM(X, Q, 0.3)\n",
    "    '''\n",
    "    N_tot = X.shape[0]     \n",
    "    k = math.floor(m*N_tot)+1   # number of neighbors\n",
    "\n",
    "    kdt = KDTree(X, leaf_size=30, metric='euclidean')\n",
    "    NN_Dist, NN = kdt.query(query_pts, k, return_distance=True)  \n",
    "\n",
    "    DTM_result = np.sqrt(np.sum(NN_Dist*NN_Dist,axis=1) / k)\n",
    "    \n",
    "    return(DTM_result)\n",
    "\n",
    "def Filtration_value(p, fx, fy, d, n = 10):\n",
    "    '''\n",
    "    Compute the filtrations values of the edge [x,y] in the weighted Rips filtration\n",
    "    If p is not 1, 2 or 'np.inf, an implicit equation is solved\n",
    "    The equation to solve is G(I) = d, where G(I) = (I**p-fx**p)**(1/p)+(I**p-fy**p)**(1/p)\n",
    "    We use a dichotomic method\n",
    "    \n",
    "    Input:\n",
    "    p: parameter of the weighted Rips filtration, in [1, +inf) or np.inf\n",
    "    fx: filtration value of the point x\n",
    "    fy: filtration value of the point y\n",
    "    d: distance between the points x and y\n",
    "    n: number of iterations of the dichotomic method\n",
    "        \n",
    "    Output: \n",
    "    val : filtration value of the edge [x,y], i.e. solution of G(I) = d    \n",
    "    \n",
    "    Example:\n",
    "    Filtration_value(2.4, 2, 3, 5, 10)\n",
    "    '''\n",
    "    if p==np.inf:\n",
    "        value = max([fx,fy,d/2])\n",
    "    else:\n",
    "        fmax = max([fx,fy])\n",
    "        if d < (abs(fx**p-fy**p))**(1/p):\n",
    "            value = fmax\n",
    "        elif p==1:\n",
    "            value = (fx+fy+d)/2\n",
    "        elif p==2:\n",
    "            value = np.sqrt( ( (fx+fy)**2 +d**2 )*( (fx-fy)**2 +d**2 ) )/(2*d)            \n",
    "        else:\n",
    "            Imin = fmax; Imax = (d**p+fmax**p)**(1/p)\n",
    "            for i in range(n):\n",
    "                I = (Imin+Imax)/2\n",
    "                g = (I**p-fx**p)**(1/p)+(I**p-fy**p)**(1/p)\n",
    "                if g<d:\n",
    "                    Imin=I\n",
    "                else:\n",
    "                    Imax=I\n",
    "            value = I\n",
    "    return value\n",
    "\n",
    "def WeightedRipsFiltration(X, F, p, dimension_max =2, filtration_max = np.inf):\n",
    "    '''\n",
    "    Compute the weighted Rips filtration of a point cloud, weighted with the \n",
    "    values F, and with parameter p\n",
    "    \n",
    "    Input:\n",
    "    X: a nxd numpy array representing n points in R^d\n",
    "    F: an array of length n,  representing the values of a function on X\n",
    "    p: a parameter in [0, +inf) or np.inf\n",
    "    filtration_max: maximal filtration value of simplices when building the complex\n",
    "    dimension_max: maximal dimension to expand the complex\n",
    "    \n",
    "    Output:\n",
    "    st: a gudhi.SimplexTree \n",
    "    '''\n",
    "    N_tot = X.shape[0]     \n",
    "    distances = euclidean_distances(X)          # compute the pairwise distances\n",
    "    st = gudhi.SimplexTree()                    # create an empty simplex tree\n",
    "\n",
    "    for i in range(N_tot):                      # add vertices to the simplex tree\n",
    "        value = F[i]\n",
    "        if value<filtration_max:\n",
    "            st.insert([i], filtration = F[i])            \n",
    "    for i in range(N_tot):                      # add edges to the simplex tree\n",
    "        for j in range(i):\n",
    "            value = Filtration_value(p, F[i], F[j], distances[i][j])\n",
    "            if value<filtration_max:\n",
    "                st.insert([i,j], filtration  = value)\n",
    "    \n",
    "    st.expansion(dimension_max)                 # expand the simplex tree\n",
    " \n",
    "    result_str = 'Weighted Rips Complex is of dimension ' + repr(st.dimension()) + ' - ' + \\\n",
    "        repr(st.num_simplices()) + ' simplices - ' + \\\n",
    "        repr(st.num_vertices()) + ' vertices.' +\\\n",
    "        ' Filtration maximal value is ' + str(filtration_max) + '.'\n",
    "    print(result_str)\n",
    "\n",
    "    return st\n",
    "\n",
    "def DTMFiltration(X, m, p, dimension_max =2, filtration_max = np.inf):\n",
    "    '''\n",
    "    Compute the DTM-filtration of a point cloud, with parameters m and p\n",
    "    \n",
    "    Input:\n",
    "    X: a nxd numpy array representing n points in R^d\n",
    "    m: parameter of the DTM, in [0,1) \n",
    "    p: parameter of the filtration, in [0, +inf) or np.inf\n",
    "    filtration_max: maximal filtration value of simplices when building the complex\n",
    "    dimension_max: maximal dimension to expand the complex\n",
    "    \n",
    "    Output:\n",
    "    st: a gudhi.SimplexTree \n",
    "    '''\n",
    "    DTM_values = DTM(X,X,m)\n",
    "    st = WeightedRipsFiltration(X, DTM_values, p, dimension_max, filtration_max)\n",
    "\n",
    "    return st\n",
    "\n",
    "def SampleOnLemniscate(N_obs = 100, N_out = 50, is_plot = False):\n",
    "    '''\n",
    "    Sample evenly spaced points on Bernouilli's lemniscate,\n",
    "    with outliers\n",
    "    \n",
    "    Input:\n",
    "    N_obs: an integer, number of points on the Lemniscate\n",
    "    N_out: an integer, number on points randomly drawn in [-1,1]x[-0.5,0.5]\n",
    "    \n",
    "    Output:\n",
    "    data: a nx2 array, representing points in R^2\n",
    "    \n",
    "    '''\n",
    "    I = np.linspace(0, 2*np.pi, N_obs+1)\n",
    "    I = I[0:-1]\n",
    "    pas = 2*np.pi/N_obs\n",
    "    \n",
    "    a = np.sin(I)\n",
    "    b = np.cos(I)*np.sin(I)\n",
    "    c = (1+np.cos(I)**2)\n",
    "    ap = np.cos(I)\n",
    "    bp = np.cos(I)**2-np.sin(I)**2\n",
    "    cp = -2*np.cos(I)*np.sin(I)\n",
    "    Xp = (a*cp-ap*c)/(c**2)\n",
    "    Yp = (b*cp-bp*c)/(c**2)\n",
    "    \n",
    "    g = np.sqrt(  ( Xp )**2 + ( Yp )**2)\n",
    "    C=np.cumsum(g)\n",
    "    G = np.concatenate(([0], C[0:-1]))*pas\n",
    "    alpha = G[-1]\n",
    "    II = np.linspace(0, alpha, N_obs)\n",
    "    Ginv = np.interp(II, G, I)\n",
    "    \n",
    "    X_obs=np.sin(Ginv)/(1+np.cos(Ginv)**2)\n",
    "    Y_obs=np.cos(Ginv)*np.sin(Ginv)/(1+np.cos(Ginv)**2)\n",
    "\n",
    "    X_out = np.random.rand(N_out)*2-1\n",
    "    Y_out = np.random.rand(N_out)-0.5\n",
    "\n",
    "    X = np.concatenate((X_obs, X_out))\n",
    "    Y = np.concatenate((Y_obs, Y_out))\n",
    "    data = np.stack((X,Y)).transpose() \n",
    "    \n",
    "    if is_plot:\n",
    "        fig, ax = plt.subplots()\n",
    "        plt_obs = ax.scatter(X_obs, Y_obs, c='tab:cyan');\n",
    "        plt_out = ax.scatter(X_out, Y_out, c='tab:orange');\n",
    "        ax.axis('equal')\n",
    "        ax.set_title(str(N_obs)+'-sampling of the lemniscate with '+str(N_out)+' outliers')\n",
    "        ax.legend((plt_obs, plt_out), ('data', 'outliers'), loc='lower left')\n",
    "    \n",
    "    return data\n",
    "\n",
    "def SampleOnOlympics(N_obs = 50, is_plot = False):\n",
    "    '''\n",
    "    Sample 5*N_obs points (observations) points from the uniform distribution on five unit circle in R^2 \n",
    "        \n",
    "    Input: \n",
    "    N_obs: number of sample points on the circles\n",
    "    is_plot = True or False: draw a plot of the sampled points            \n",
    "    \n",
    "    Output : \n",
    "    data : a (5*N_obs)x2 matrix, the sampled points concatenated \n",
    "    '''\n",
    "    l=1.25\n",
    "    center1 = np.array([0,1])\n",
    "    center2 = np.array([1*l,0])\n",
    "    center3 = np.array([2*l,1])\n",
    "    center4 = np.array([3*l,0])\n",
    "    center5 = np.array([4*l,1])\n",
    "    I = np.linspace(0, 2*np.pi, N_obs) \n",
    "     \n",
    "    circle =np.stack((np.cos(I),np.sin(I))).transpose()\n",
    "    X1 = circle+center1    \n",
    "    X2 = circle+center2    \n",
    "    X3 = circle+center3    \n",
    "    X4 = circle+center4    \n",
    "    X5 = circle+center5    \n",
    "\n",
    "    data = np.concatenate((X1, X2, X3, X4, X5))\n",
    "        \n",
    "    if is_plot:\n",
    "        fig, ax = plt.subplots()\n",
    "        plt_obs = ax.scatter(data[:,0], data[:,1], c='tab:cyan');\n",
    "        ax.axis('equal')\n",
    "        ax.set_title(str(N_obs)+'-sampling of the Olympic rings')\n",
    "\n",
    "    return data\n",
    "\n",
    "def PlotPersistenceBarcodes(st, tmax = 1, d=2, eps = 0, hide_small_infinite_bars = False, \n",
    "                            barcode_index = [],\n",
    "                            homology_coeff_field = 2, xtick = 0, xticks = []):\n",
    "    '''\n",
    "    Display persistence barcodes of the filtration given by st\n",
    "    \n",
    "    Input:\n",
    "    st: a gudhi.SimplexTree\n",
    "    tmax: maximal filtration value to plot the barcodes\n",
    "    d: maximal dimension to compute the persistence\n",
    "    eps: minimal length of displayed bars\n",
    "    hide_small_infinite_bars: if False, do not display bars of length < epsilon which exceed the maximal filtration value\n",
    "    barcode_index: array containing the dimensions to plot the barcodes. By default: range(d+1)\n",
    "    xticks: a list of xticks \n",
    "    homology_coeff_field: Field of coefficients to compute the persistence\n",
    "    xtick: if nonzero, add a xtick to the barcodes\n",
    "    xticks: a list of x ticks. If nonempty, replace the default ticks by this list\n",
    "    '''\n",
    "    st.persistence(homology_coeff_field = homology_coeff_field)    #compute the persistence\n",
    "\n",
    "    ' Plot the persistence barcodes '\n",
    "    width = 0.75       # width of the bars\n",
    "    eps1 = .1          # y margin\n",
    "    eps2 = .0          # x margin\n",
    "    labelsize = 12     # size of x ticks\n",
    "    \n",
    "    if not barcode_index: \n",
    "        barcode_index = range(d+1)\n",
    "    for i in barcode_index:\n",
    "        diagram = st.persistence_intervals_in_dimension(i)\n",
    "        if hide_small_infinite_bars:\n",
    "            diagram = [t for t in diagram if min(t[1], tmax)-t[0] > eps]          #select large enough bars\n",
    "            diagram = [[t[0], min(t[1], tmax)] for t in diagram]                  #threshold the bars exceeding tmax\n",
    "        else:\n",
    "            diagram = [t for t in diagram if t[1]-t[0] > eps]                     #select large enough bars\n",
    "            diagram = [[t[0], min(t[1], tmax)] for t in diagram]                  #threshold the bars exceeding tmax\n",
    "        if diagram:\n",
    "            color = COLORS[i]\n",
    "            fig = plt.figure( figsize=(10,2) )\n",
    "            ax = plt.axes(frameon=True)    \n",
    "            for j in range(len(diagram)):\n",
    "                t = diagram[j]\n",
    "                plt.fill([t[0], t[1], t[1], t[0]], [j, j, j+width, j+width], fill=True, c=color, lw = 1.4)\n",
    "\n",
    "            ax.set_xlim(-eps2, tmax+eps2)\n",
    "            ax.spines['bottom'].set_visible(True)\n",
    "            ax.spines['bottom'].set_bounds(0, tmax)\n",
    "            ax.spines['bottom'].set_linewidth(1.5)  \n",
    "            if xticks:\n",
    "                plt.xticks(xticks)\n",
    "            else:\n",
    "                if xtick:  \n",
    "                    plt.xticks([0, xtick, tmax])\n",
    "                    ax.set_xticklabels([str(0), '%.1f' %xtick, '%.1f' %tmax])\n",
    "                else:      \n",
    "                    plt.xticks([0, tmax])\n",
    "                    ax.set_xticklabels([str(0), '%.1f' %tmax])\n",
    "            ax.tick_params(axis='both', which='major', labelsize=20, size = 9, width = 2) \n",
    "            ax.axes.get_yaxis().set_visible(False)\n",
    "            ax.set_ylim(-eps1, len(diagram) + eps1)\n",
    "            ax.spines['left'].set_visible(False)\n",
    "            ax.spines['right'].set_visible(False)\n",
    "            ax.spines['top'].set_visible(False)     \n",
    "            plt.title('H'+str(i)+'-barcode')"
   ]
  }
 ],
 "metadata": {
  "kernelspec": {
   "display_name": "Python 3",
   "language": "python",
   "name": "python3"
  },
  "language_info": {
   "codemirror_mode": {
    "name": "ipython",
    "version": 3
   },
   "file_extension": ".py",
   "mimetype": "text/x-python",
   "name": "python",
   "nbconvert_exporter": "python",
   "pygments_lexer": "ipython3",
   "version": "3.7.3"
  }
 },
 "nbformat": 4,
 "nbformat_minor": 2
}
